{
  "nbformat": 4,
  "nbformat_minor": 0,
  "metadata": {
    "kernelspec": {
      "name": "python39064bitbakcondab8c790bd3928456f8b4860e19d2fce27",
      "language": "python",
      "display_name": "Python 3.9.0 64-bit ('bak': conda)"
    },
    "language_info": {
      "codemirror_mode": {
        "name": "ipython",
        "version": 2
      },
      "file_extension": ".py",
      "mimetype": "text/x-python",
      "name": "python",
      "nbconvert_exporter": "python",
      "pygments_lexer": "ipython2",
      "version": "2.7.6"
    },
    "colab": {
      "name": "(Exp) 04_Basic Convolutional Neural Network.ipynb",
      "provenance": [],
      "collapsed_sections": []
    },
    "accelerator": "GPU",
    "widgets": {
      "application/vnd.jupyter.widget-state+json": {
        "a2e9c1ae7467413ba33a4584e60f2101": {
          "model_module": "@jupyter-widgets/controls",
          "model_name": "HBoxModel",
          "state": {
            "_view_name": "HBoxView",
            "_dom_classes": [],
            "_model_name": "HBoxModel",
            "_view_module": "@jupyter-widgets/controls",
            "_model_module_version": "1.5.0",
            "_view_count": null,
            "_view_module_version": "1.5.0",
            "box_style": "",
            "layout": "IPY_MODEL_9deda543220947ae9c1d9fdb655c24b7",
            "_model_module": "@jupyter-widgets/controls",
            "children": [
              "IPY_MODEL_8522574f32af45e4a2c8a59898f437ea",
              "IPY_MODEL_0996860e64ed440581db05758d76a299"
            ]
          }
        },
        "9deda543220947ae9c1d9fdb655c24b7": {
          "model_module": "@jupyter-widgets/base",
          "model_name": "LayoutModel",
          "state": {
            "_view_name": "LayoutView",
            "grid_template_rows": null,
            "right": null,
            "justify_content": null,
            "_view_module": "@jupyter-widgets/base",
            "overflow": null,
            "_model_module_version": "1.2.0",
            "_view_count": null,
            "flex_flow": null,
            "width": null,
            "min_width": null,
            "border": null,
            "align_items": null,
            "bottom": null,
            "_model_module": "@jupyter-widgets/base",
            "top": null,
            "grid_column": null,
            "overflow_y": null,
            "overflow_x": null,
            "grid_auto_flow": null,
            "grid_area": null,
            "grid_template_columns": null,
            "flex": null,
            "_model_name": "LayoutModel",
            "justify_items": null,
            "grid_row": null,
            "max_height": null,
            "align_content": null,
            "visibility": null,
            "align_self": null,
            "height": null,
            "min_height": null,
            "padding": null,
            "grid_auto_rows": null,
            "grid_gap": null,
            "max_width": null,
            "order": null,
            "_view_module_version": "1.2.0",
            "grid_template_areas": null,
            "object_position": null,
            "object_fit": null,
            "grid_auto_columns": null,
            "margin": null,
            "display": null,
            "left": null
          }
        },
        "8522574f32af45e4a2c8a59898f437ea": {
          "model_module": "@jupyter-widgets/controls",
          "model_name": "FloatProgressModel",
          "state": {
            "_view_name": "ProgressView",
            "style": "IPY_MODEL_4a93a0d0f83c416eb509c24468ff9cb1",
            "_dom_classes": [],
            "description": "",
            "_model_name": "FloatProgressModel",
            "bar_style": "success",
            "max": 9912422,
            "_view_module": "@jupyter-widgets/controls",
            "_model_module_version": "1.5.0",
            "value": 9912422,
            "_view_count": null,
            "_view_module_version": "1.5.0",
            "orientation": "horizontal",
            "min": 0,
            "description_tooltip": null,
            "_model_module": "@jupyter-widgets/controls",
            "layout": "IPY_MODEL_0c1aee5d46f64c889ad4514b329cb134"
          }
        },
        "0996860e64ed440581db05758d76a299": {
          "model_module": "@jupyter-widgets/controls",
          "model_name": "HTMLModel",
          "state": {
            "_view_name": "HTMLView",
            "style": "IPY_MODEL_551e6af1b95a47558256ccef07fa4aad",
            "_dom_classes": [],
            "description": "",
            "_model_name": "HTMLModel",
            "placeholder": "​",
            "_view_module": "@jupyter-widgets/controls",
            "_model_module_version": "1.5.0",
            "value": " 9913344/? [01:11&lt;00:00, 138098.02it/s]",
            "_view_count": null,
            "_view_module_version": "1.5.0",
            "description_tooltip": null,
            "_model_module": "@jupyter-widgets/controls",
            "layout": "IPY_MODEL_bf43f18e68f84521ab7186fec7c3726c"
          }
        },
        "4a93a0d0f83c416eb509c24468ff9cb1": {
          "model_module": "@jupyter-widgets/controls",
          "model_name": "ProgressStyleModel",
          "state": {
            "_view_name": "StyleView",
            "_model_name": "ProgressStyleModel",
            "description_width": "initial",
            "_view_module": "@jupyter-widgets/base",
            "_model_module_version": "1.5.0",
            "_view_count": null,
            "_view_module_version": "1.2.0",
            "bar_color": null,
            "_model_module": "@jupyter-widgets/controls"
          }
        },
        "0c1aee5d46f64c889ad4514b329cb134": {
          "model_module": "@jupyter-widgets/base",
          "model_name": "LayoutModel",
          "state": {
            "_view_name": "LayoutView",
            "grid_template_rows": null,
            "right": null,
            "justify_content": null,
            "_view_module": "@jupyter-widgets/base",
            "overflow": null,
            "_model_module_version": "1.2.0",
            "_view_count": null,
            "flex_flow": null,
            "width": null,
            "min_width": null,
            "border": null,
            "align_items": null,
            "bottom": null,
            "_model_module": "@jupyter-widgets/base",
            "top": null,
            "grid_column": null,
            "overflow_y": null,
            "overflow_x": null,
            "grid_auto_flow": null,
            "grid_area": null,
            "grid_template_columns": null,
            "flex": null,
            "_model_name": "LayoutModel",
            "justify_items": null,
            "grid_row": null,
            "max_height": null,
            "align_content": null,
            "visibility": null,
            "align_self": null,
            "height": null,
            "min_height": null,
            "padding": null,
            "grid_auto_rows": null,
            "grid_gap": null,
            "max_width": null,
            "order": null,
            "_view_module_version": "1.2.0",
            "grid_template_areas": null,
            "object_position": null,
            "object_fit": null,
            "grid_auto_columns": null,
            "margin": null,
            "display": null,
            "left": null
          }
        },
        "551e6af1b95a47558256ccef07fa4aad": {
          "model_module": "@jupyter-widgets/controls",
          "model_name": "DescriptionStyleModel",
          "state": {
            "_view_name": "StyleView",
            "_model_name": "DescriptionStyleModel",
            "description_width": "",
            "_view_module": "@jupyter-widgets/base",
            "_model_module_version": "1.5.0",
            "_view_count": null,
            "_view_module_version": "1.2.0",
            "_model_module": "@jupyter-widgets/controls"
          }
        },
        "bf43f18e68f84521ab7186fec7c3726c": {
          "model_module": "@jupyter-widgets/base",
          "model_name": "LayoutModel",
          "state": {
            "_view_name": "LayoutView",
            "grid_template_rows": null,
            "right": null,
            "justify_content": null,
            "_view_module": "@jupyter-widgets/base",
            "overflow": null,
            "_model_module_version": "1.2.0",
            "_view_count": null,
            "flex_flow": null,
            "width": null,
            "min_width": null,
            "border": null,
            "align_items": null,
            "bottom": null,
            "_model_module": "@jupyter-widgets/base",
            "top": null,
            "grid_column": null,
            "overflow_y": null,
            "overflow_x": null,
            "grid_auto_flow": null,
            "grid_area": null,
            "grid_template_columns": null,
            "flex": null,
            "_model_name": "LayoutModel",
            "justify_items": null,
            "grid_row": null,
            "max_height": null,
            "align_content": null,
            "visibility": null,
            "align_self": null,
            "height": null,
            "min_height": null,
            "padding": null,
            "grid_auto_rows": null,
            "grid_gap": null,
            "max_width": null,
            "order": null,
            "_view_module_version": "1.2.0",
            "grid_template_areas": null,
            "object_position": null,
            "object_fit": null,
            "grid_auto_columns": null,
            "margin": null,
            "display": null,
            "left": null
          }
        },
        "4a16ee73946e469293ea888b01dde61e": {
          "model_module": "@jupyter-widgets/controls",
          "model_name": "HBoxModel",
          "state": {
            "_view_name": "HBoxView",
            "_dom_classes": [],
            "_model_name": "HBoxModel",
            "_view_module": "@jupyter-widgets/controls",
            "_model_module_version": "1.5.0",
            "_view_count": null,
            "_view_module_version": "1.5.0",
            "box_style": "",
            "layout": "IPY_MODEL_8180e3e6ba2b4545b41b8e5942f9cae8",
            "_model_module": "@jupyter-widgets/controls",
            "children": [
              "IPY_MODEL_9bd3b4b1c58e485f9dd913a0e0788391",
              "IPY_MODEL_14d85c8fc18344e8a8a1b6a7ba9d79fd"
            ]
          }
        },
        "8180e3e6ba2b4545b41b8e5942f9cae8": {
          "model_module": "@jupyter-widgets/base",
          "model_name": "LayoutModel",
          "state": {
            "_view_name": "LayoutView",
            "grid_template_rows": null,
            "right": null,
            "justify_content": null,
            "_view_module": "@jupyter-widgets/base",
            "overflow": null,
            "_model_module_version": "1.2.0",
            "_view_count": null,
            "flex_flow": null,
            "width": null,
            "min_width": null,
            "border": null,
            "align_items": null,
            "bottom": null,
            "_model_module": "@jupyter-widgets/base",
            "top": null,
            "grid_column": null,
            "overflow_y": null,
            "overflow_x": null,
            "grid_auto_flow": null,
            "grid_area": null,
            "grid_template_columns": null,
            "flex": null,
            "_model_name": "LayoutModel",
            "justify_items": null,
            "grid_row": null,
            "max_height": null,
            "align_content": null,
            "visibility": null,
            "align_self": null,
            "height": null,
            "min_height": null,
            "padding": null,
            "grid_auto_rows": null,
            "grid_gap": null,
            "max_width": null,
            "order": null,
            "_view_module_version": "1.2.0",
            "grid_template_areas": null,
            "object_position": null,
            "object_fit": null,
            "grid_auto_columns": null,
            "margin": null,
            "display": null,
            "left": null
          }
        },
        "9bd3b4b1c58e485f9dd913a0e0788391": {
          "model_module": "@jupyter-widgets/controls",
          "model_name": "FloatProgressModel",
          "state": {
            "_view_name": "ProgressView",
            "style": "IPY_MODEL_096a7c005a8f4e8e921f90d8a4dd209a",
            "_dom_classes": [],
            "description": "",
            "_model_name": "FloatProgressModel",
            "bar_style": "success",
            "max": 28881,
            "_view_module": "@jupyter-widgets/controls",
            "_model_module_version": "1.5.0",
            "value": 28881,
            "_view_count": null,
            "_view_module_version": "1.5.0",
            "orientation": "horizontal",
            "min": 0,
            "description_tooltip": null,
            "_model_module": "@jupyter-widgets/controls",
            "layout": "IPY_MODEL_2015668a0689452a9ec2ec866cd5f9b6"
          }
        },
        "14d85c8fc18344e8a8a1b6a7ba9d79fd": {
          "model_module": "@jupyter-widgets/controls",
          "model_name": "HTMLModel",
          "state": {
            "_view_name": "HTMLView",
            "style": "IPY_MODEL_8e5fee677cf54dc3b9f29d376fa68d7b",
            "_dom_classes": [],
            "description": "",
            "_model_name": "HTMLModel",
            "placeholder": "​",
            "_view_module": "@jupyter-widgets/controls",
            "_model_module_version": "1.5.0",
            "value": " 29696/? [01:09&lt;00:00, 426.61it/s]",
            "_view_count": null,
            "_view_module_version": "1.5.0",
            "description_tooltip": null,
            "_model_module": "@jupyter-widgets/controls",
            "layout": "IPY_MODEL_a5c1886efbea4f54a7a550e0fc3870b0"
          }
        },
        "096a7c005a8f4e8e921f90d8a4dd209a": {
          "model_module": "@jupyter-widgets/controls",
          "model_name": "ProgressStyleModel",
          "state": {
            "_view_name": "StyleView",
            "_model_name": "ProgressStyleModel",
            "description_width": "initial",
            "_view_module": "@jupyter-widgets/base",
            "_model_module_version": "1.5.0",
            "_view_count": null,
            "_view_module_version": "1.2.0",
            "bar_color": null,
            "_model_module": "@jupyter-widgets/controls"
          }
        },
        "2015668a0689452a9ec2ec866cd5f9b6": {
          "model_module": "@jupyter-widgets/base",
          "model_name": "LayoutModel",
          "state": {
            "_view_name": "LayoutView",
            "grid_template_rows": null,
            "right": null,
            "justify_content": null,
            "_view_module": "@jupyter-widgets/base",
            "overflow": null,
            "_model_module_version": "1.2.0",
            "_view_count": null,
            "flex_flow": null,
            "width": null,
            "min_width": null,
            "border": null,
            "align_items": null,
            "bottom": null,
            "_model_module": "@jupyter-widgets/base",
            "top": null,
            "grid_column": null,
            "overflow_y": null,
            "overflow_x": null,
            "grid_auto_flow": null,
            "grid_area": null,
            "grid_template_columns": null,
            "flex": null,
            "_model_name": "LayoutModel",
            "justify_items": null,
            "grid_row": null,
            "max_height": null,
            "align_content": null,
            "visibility": null,
            "align_self": null,
            "height": null,
            "min_height": null,
            "padding": null,
            "grid_auto_rows": null,
            "grid_gap": null,
            "max_width": null,
            "order": null,
            "_view_module_version": "1.2.0",
            "grid_template_areas": null,
            "object_position": null,
            "object_fit": null,
            "grid_auto_columns": null,
            "margin": null,
            "display": null,
            "left": null
          }
        },
        "8e5fee677cf54dc3b9f29d376fa68d7b": {
          "model_module": "@jupyter-widgets/controls",
          "model_name": "DescriptionStyleModel",
          "state": {
            "_view_name": "StyleView",
            "_model_name": "DescriptionStyleModel",
            "description_width": "",
            "_view_module": "@jupyter-widgets/base",
            "_model_module_version": "1.5.0",
            "_view_count": null,
            "_view_module_version": "1.2.0",
            "_model_module": "@jupyter-widgets/controls"
          }
        },
        "a5c1886efbea4f54a7a550e0fc3870b0": {
          "model_module": "@jupyter-widgets/base",
          "model_name": "LayoutModel",
          "state": {
            "_view_name": "LayoutView",
            "grid_template_rows": null,
            "right": null,
            "justify_content": null,
            "_view_module": "@jupyter-widgets/base",
            "overflow": null,
            "_model_module_version": "1.2.0",
            "_view_count": null,
            "flex_flow": null,
            "width": null,
            "min_width": null,
            "border": null,
            "align_items": null,
            "bottom": null,
            "_model_module": "@jupyter-widgets/base",
            "top": null,
            "grid_column": null,
            "overflow_y": null,
            "overflow_x": null,
            "grid_auto_flow": null,
            "grid_area": null,
            "grid_template_columns": null,
            "flex": null,
            "_model_name": "LayoutModel",
            "justify_items": null,
            "grid_row": null,
            "max_height": null,
            "align_content": null,
            "visibility": null,
            "align_self": null,
            "height": null,
            "min_height": null,
            "padding": null,
            "grid_auto_rows": null,
            "grid_gap": null,
            "max_width": null,
            "order": null,
            "_view_module_version": "1.2.0",
            "grid_template_areas": null,
            "object_position": null,
            "object_fit": null,
            "grid_auto_columns": null,
            "margin": null,
            "display": null,
            "left": null
          }
        },
        "3fe0db15bb634bbabdd3d5b08ab676bb": {
          "model_module": "@jupyter-widgets/controls",
          "model_name": "HBoxModel",
          "state": {
            "_view_name": "HBoxView",
            "_dom_classes": [],
            "_model_name": "HBoxModel",
            "_view_module": "@jupyter-widgets/controls",
            "_model_module_version": "1.5.0",
            "_view_count": null,
            "_view_module_version": "1.5.0",
            "box_style": "",
            "layout": "IPY_MODEL_9d75523408eb4dd68fe6d88ff87ab499",
            "_model_module": "@jupyter-widgets/controls",
            "children": [
              "IPY_MODEL_7ed628ce7c724dfe81e0eacfe3fd5699",
              "IPY_MODEL_aa2fab5ce83c4a55b4c3bd8138c6af20"
            ]
          }
        },
        "9d75523408eb4dd68fe6d88ff87ab499": {
          "model_module": "@jupyter-widgets/base",
          "model_name": "LayoutModel",
          "state": {
            "_view_name": "LayoutView",
            "grid_template_rows": null,
            "right": null,
            "justify_content": null,
            "_view_module": "@jupyter-widgets/base",
            "overflow": null,
            "_model_module_version": "1.2.0",
            "_view_count": null,
            "flex_flow": null,
            "width": null,
            "min_width": null,
            "border": null,
            "align_items": null,
            "bottom": null,
            "_model_module": "@jupyter-widgets/base",
            "top": null,
            "grid_column": null,
            "overflow_y": null,
            "overflow_x": null,
            "grid_auto_flow": null,
            "grid_area": null,
            "grid_template_columns": null,
            "flex": null,
            "_model_name": "LayoutModel",
            "justify_items": null,
            "grid_row": null,
            "max_height": null,
            "align_content": null,
            "visibility": null,
            "align_self": null,
            "height": null,
            "min_height": null,
            "padding": null,
            "grid_auto_rows": null,
            "grid_gap": null,
            "max_width": null,
            "order": null,
            "_view_module_version": "1.2.0",
            "grid_template_areas": null,
            "object_position": null,
            "object_fit": null,
            "grid_auto_columns": null,
            "margin": null,
            "display": null,
            "left": null
          }
        },
        "7ed628ce7c724dfe81e0eacfe3fd5699": {
          "model_module": "@jupyter-widgets/controls",
          "model_name": "FloatProgressModel",
          "state": {
            "_view_name": "ProgressView",
            "style": "IPY_MODEL_0aba8354eaa44dd09c09007f8b99caad",
            "_dom_classes": [],
            "description": "",
            "_model_name": "FloatProgressModel",
            "bar_style": "success",
            "max": 1648877,
            "_view_module": "@jupyter-widgets/controls",
            "_model_module_version": "1.5.0",
            "value": 1648877,
            "_view_count": null,
            "_view_module_version": "1.5.0",
            "orientation": "horizontal",
            "min": 0,
            "description_tooltip": null,
            "_model_module": "@jupyter-widgets/controls",
            "layout": "IPY_MODEL_598b3eb9aafe475b94a2a9e1e9cdc3c7"
          }
        },
        "aa2fab5ce83c4a55b4c3bd8138c6af20": {
          "model_module": "@jupyter-widgets/controls",
          "model_name": "HTMLModel",
          "state": {
            "_view_name": "HTMLView",
            "style": "IPY_MODEL_65aecd29e36a422e9c887a2abe053b91",
            "_dom_classes": [],
            "description": "",
            "_model_name": "HTMLModel",
            "placeholder": "​",
            "_view_module": "@jupyter-widgets/controls",
            "_model_module_version": "1.5.0",
            "value": " 1649664/? [00:12&lt;00:00, 127870.77it/s]",
            "_view_count": null,
            "_view_module_version": "1.5.0",
            "description_tooltip": null,
            "_model_module": "@jupyter-widgets/controls",
            "layout": "IPY_MODEL_71bb1f7cd77d460491aae5b6e3efb7e9"
          }
        },
        "0aba8354eaa44dd09c09007f8b99caad": {
          "model_module": "@jupyter-widgets/controls",
          "model_name": "ProgressStyleModel",
          "state": {
            "_view_name": "StyleView",
            "_model_name": "ProgressStyleModel",
            "description_width": "initial",
            "_view_module": "@jupyter-widgets/base",
            "_model_module_version": "1.5.0",
            "_view_count": null,
            "_view_module_version": "1.2.0",
            "bar_color": null,
            "_model_module": "@jupyter-widgets/controls"
          }
        },
        "598b3eb9aafe475b94a2a9e1e9cdc3c7": {
          "model_module": "@jupyter-widgets/base",
          "model_name": "LayoutModel",
          "state": {
            "_view_name": "LayoutView",
            "grid_template_rows": null,
            "right": null,
            "justify_content": null,
            "_view_module": "@jupyter-widgets/base",
            "overflow": null,
            "_model_module_version": "1.2.0",
            "_view_count": null,
            "flex_flow": null,
            "width": null,
            "min_width": null,
            "border": null,
            "align_items": null,
            "bottom": null,
            "_model_module": "@jupyter-widgets/base",
            "top": null,
            "grid_column": null,
            "overflow_y": null,
            "overflow_x": null,
            "grid_auto_flow": null,
            "grid_area": null,
            "grid_template_columns": null,
            "flex": null,
            "_model_name": "LayoutModel",
            "justify_items": null,
            "grid_row": null,
            "max_height": null,
            "align_content": null,
            "visibility": null,
            "align_self": null,
            "height": null,
            "min_height": null,
            "padding": null,
            "grid_auto_rows": null,
            "grid_gap": null,
            "max_width": null,
            "order": null,
            "_view_module_version": "1.2.0",
            "grid_template_areas": null,
            "object_position": null,
            "object_fit": null,
            "grid_auto_columns": null,
            "margin": null,
            "display": null,
            "left": null
          }
        },
        "65aecd29e36a422e9c887a2abe053b91": {
          "model_module": "@jupyter-widgets/controls",
          "model_name": "DescriptionStyleModel",
          "state": {
            "_view_name": "StyleView",
            "_model_name": "DescriptionStyleModel",
            "description_width": "",
            "_view_module": "@jupyter-widgets/base",
            "_model_module_version": "1.5.0",
            "_view_count": null,
            "_view_module_version": "1.2.0",
            "_model_module": "@jupyter-widgets/controls"
          }
        },
        "71bb1f7cd77d460491aae5b6e3efb7e9": {
          "model_module": "@jupyter-widgets/base",
          "model_name": "LayoutModel",
          "state": {
            "_view_name": "LayoutView",
            "grid_template_rows": null,
            "right": null,
            "justify_content": null,
            "_view_module": "@jupyter-widgets/base",
            "overflow": null,
            "_model_module_version": "1.2.0",
            "_view_count": null,
            "flex_flow": null,
            "width": null,
            "min_width": null,
            "border": null,
            "align_items": null,
            "bottom": null,
            "_model_module": "@jupyter-widgets/base",
            "top": null,
            "grid_column": null,
            "overflow_y": null,
            "overflow_x": null,
            "grid_auto_flow": null,
            "grid_area": null,
            "grid_template_columns": null,
            "flex": null,
            "_model_name": "LayoutModel",
            "justify_items": null,
            "grid_row": null,
            "max_height": null,
            "align_content": null,
            "visibility": null,
            "align_self": null,
            "height": null,
            "min_height": null,
            "padding": null,
            "grid_auto_rows": null,
            "grid_gap": null,
            "max_width": null,
            "order": null,
            "_view_module_version": "1.2.0",
            "grid_template_areas": null,
            "object_position": null,
            "object_fit": null,
            "grid_auto_columns": null,
            "margin": null,
            "display": null,
            "left": null
          }
        },
        "2e981e1d84b343368213fd03f742185a": {
          "model_module": "@jupyter-widgets/controls",
          "model_name": "HBoxModel",
          "state": {
            "_view_name": "HBoxView",
            "_dom_classes": [],
            "_model_name": "HBoxModel",
            "_view_module": "@jupyter-widgets/controls",
            "_model_module_version": "1.5.0",
            "_view_count": null,
            "_view_module_version": "1.5.0",
            "box_style": "",
            "layout": "IPY_MODEL_fe4857ec5b464bb8a5f442d53bf370ad",
            "_model_module": "@jupyter-widgets/controls",
            "children": [
              "IPY_MODEL_4b5aaa7a79364b5aad05008b4c99c376",
              "IPY_MODEL_646b74eab72441b5af4008247aa283b7"
            ]
          }
        },
        "fe4857ec5b464bb8a5f442d53bf370ad": {
          "model_module": "@jupyter-widgets/base",
          "model_name": "LayoutModel",
          "state": {
            "_view_name": "LayoutView",
            "grid_template_rows": null,
            "right": null,
            "justify_content": null,
            "_view_module": "@jupyter-widgets/base",
            "overflow": null,
            "_model_module_version": "1.2.0",
            "_view_count": null,
            "flex_flow": null,
            "width": null,
            "min_width": null,
            "border": null,
            "align_items": null,
            "bottom": null,
            "_model_module": "@jupyter-widgets/base",
            "top": null,
            "grid_column": null,
            "overflow_y": null,
            "overflow_x": null,
            "grid_auto_flow": null,
            "grid_area": null,
            "grid_template_columns": null,
            "flex": null,
            "_model_name": "LayoutModel",
            "justify_items": null,
            "grid_row": null,
            "max_height": null,
            "align_content": null,
            "visibility": null,
            "align_self": null,
            "height": null,
            "min_height": null,
            "padding": null,
            "grid_auto_rows": null,
            "grid_gap": null,
            "max_width": null,
            "order": null,
            "_view_module_version": "1.2.0",
            "grid_template_areas": null,
            "object_position": null,
            "object_fit": null,
            "grid_auto_columns": null,
            "margin": null,
            "display": null,
            "left": null
          }
        },
        "4b5aaa7a79364b5aad05008b4c99c376": {
          "model_module": "@jupyter-widgets/controls",
          "model_name": "FloatProgressModel",
          "state": {
            "_view_name": "ProgressView",
            "style": "IPY_MODEL_97083e9123a048528cd9ad865386549e",
            "_dom_classes": [],
            "description": "",
            "_model_name": "FloatProgressModel",
            "bar_style": "success",
            "max": 4542,
            "_view_module": "@jupyter-widgets/controls",
            "_model_module_version": "1.5.0",
            "value": 4542,
            "_view_count": null,
            "_view_module_version": "1.5.0",
            "orientation": "horizontal",
            "min": 0,
            "description_tooltip": null,
            "_model_module": "@jupyter-widgets/controls",
            "layout": "IPY_MODEL_8c05e29837094a4a978890938fbefa76"
          }
        },
        "646b74eab72441b5af4008247aa283b7": {
          "model_module": "@jupyter-widgets/controls",
          "model_name": "HTMLModel",
          "state": {
            "_view_name": "HTMLView",
            "style": "IPY_MODEL_2bfad5ddb97347d59d8c1857b8fac5c7",
            "_dom_classes": [],
            "description": "",
            "_model_name": "HTMLModel",
            "placeholder": "​",
            "_view_module": "@jupyter-widgets/controls",
            "_model_module_version": "1.5.0",
            "value": " 5120/? [00:11&lt;00:00, 449.37it/s]",
            "_view_count": null,
            "_view_module_version": "1.5.0",
            "description_tooltip": null,
            "_model_module": "@jupyter-widgets/controls",
            "layout": "IPY_MODEL_ab82630bddda43f391453629bfaa6418"
          }
        },
        "97083e9123a048528cd9ad865386549e": {
          "model_module": "@jupyter-widgets/controls",
          "model_name": "ProgressStyleModel",
          "state": {
            "_view_name": "StyleView",
            "_model_name": "ProgressStyleModel",
            "description_width": "initial",
            "_view_module": "@jupyter-widgets/base",
            "_model_module_version": "1.5.0",
            "_view_count": null,
            "_view_module_version": "1.2.0",
            "bar_color": null,
            "_model_module": "@jupyter-widgets/controls"
          }
        },
        "8c05e29837094a4a978890938fbefa76": {
          "model_module": "@jupyter-widgets/base",
          "model_name": "LayoutModel",
          "state": {
            "_view_name": "LayoutView",
            "grid_template_rows": null,
            "right": null,
            "justify_content": null,
            "_view_module": "@jupyter-widgets/base",
            "overflow": null,
            "_model_module_version": "1.2.0",
            "_view_count": null,
            "flex_flow": null,
            "width": null,
            "min_width": null,
            "border": null,
            "align_items": null,
            "bottom": null,
            "_model_module": "@jupyter-widgets/base",
            "top": null,
            "grid_column": null,
            "overflow_y": null,
            "overflow_x": null,
            "grid_auto_flow": null,
            "grid_area": null,
            "grid_template_columns": null,
            "flex": null,
            "_model_name": "LayoutModel",
            "justify_items": null,
            "grid_row": null,
            "max_height": null,
            "align_content": null,
            "visibility": null,
            "align_self": null,
            "height": null,
            "min_height": null,
            "padding": null,
            "grid_auto_rows": null,
            "grid_gap": null,
            "max_width": null,
            "order": null,
            "_view_module_version": "1.2.0",
            "grid_template_areas": null,
            "object_position": null,
            "object_fit": null,
            "grid_auto_columns": null,
            "margin": null,
            "display": null,
            "left": null
          }
        },
        "2bfad5ddb97347d59d8c1857b8fac5c7": {
          "model_module": "@jupyter-widgets/controls",
          "model_name": "DescriptionStyleModel",
          "state": {
            "_view_name": "StyleView",
            "_model_name": "DescriptionStyleModel",
            "description_width": "",
            "_view_module": "@jupyter-widgets/base",
            "_model_module_version": "1.5.0",
            "_view_count": null,
            "_view_module_version": "1.2.0",
            "_model_module": "@jupyter-widgets/controls"
          }
        },
        "ab82630bddda43f391453629bfaa6418": {
          "model_module": "@jupyter-widgets/base",
          "model_name": "LayoutModel",
          "state": {
            "_view_name": "LayoutView",
            "grid_template_rows": null,
            "right": null,
            "justify_content": null,
            "_view_module": "@jupyter-widgets/base",
            "overflow": null,
            "_model_module_version": "1.2.0",
            "_view_count": null,
            "flex_flow": null,
            "width": null,
            "min_width": null,
            "border": null,
            "align_items": null,
            "bottom": null,
            "_model_module": "@jupyter-widgets/base",
            "top": null,
            "grid_column": null,
            "overflow_y": null,
            "overflow_x": null,
            "grid_auto_flow": null,
            "grid_area": null,
            "grid_template_columns": null,
            "flex": null,
            "_model_name": "LayoutModel",
            "justify_items": null,
            "grid_row": null,
            "max_height": null,
            "align_content": null,
            "visibility": null,
            "align_self": null,
            "height": null,
            "min_height": null,
            "padding": null,
            "grid_auto_rows": null,
            "grid_gap": null,
            "max_width": null,
            "order": null,
            "_view_module_version": "1.2.0",
            "grid_template_areas": null,
            "object_position": null,
            "object_fit": null,
            "grid_auto_columns": null,
            "margin": null,
            "display": null,
            "left": null
          }
        }
      }
    }
  },
  "cells": [
    {
      "cell_type": "markdown",
      "metadata": {
        "collapsed": true,
        "pycharm": {
          "name": "#%% md\n"
        },
        "id": "4vgPmfHW5WpZ"
      },
      "source": [
        "# Experiment Lecture 03 : Introduction to Convolutional Neural Network\n",
        "\n",
        "Deep Learning, RT5101, 2021, Spring, (Tue/Thurs 2:30~3:45)\n",
        "***\n",
        "\n",
        "## Syllabus\n",
        "- This course is for students who do not have prior knowledge of deep learning. It covers basic math tools, artificial neural network, multilayered perceptrons, backpropagation, deep convolutional neural network. The algorithms are applied to linear regression and image classification.\n",
        "- Textbook: Deep Learning Book by Ian Goodfellow, Yoshua Bengio and Aaron Courville\n",
        "\n",
        "\n",
        "## Teaching Staff\n",
        "- Professor: Kyoobin Lee (kyoobinlee@gist.ac.kr)\n",
        "- TA: Junseok Lee (junseoklee@gm.gist.ac.kr)\n",
        "- TA: Jongwon Kim (jongwonkim@gm.gist.ac.kr)\n",
        "- TA: Seongho Bak (bakseongho@gist.ac.kr)\n",
        "- TA: Changhyun Jun (junch9634@gm.gist.ac.kr)\n",
        "- TA: Taewon Kim (ailab.ktw@gm.gist.ac.kr)\n",
        "- TA: Seongju Lee (lsj2121@gm.gist.ac.kr)\n",
        "\n",
        "\n",
        "\n",
        "## References\n",
        "- https://pytorch.org/\n",
        "- https://github.com/hunkim/PyTorchZeroToAll\n",
        "- https://towardsdatascience.com/how-to-teach-a-computer-to-see-with-convolutional-neural-networks-96c120827cd1\n",
        "- https://rohanvarma.me/Neural-Net/\n",
        "- https://excelsior-cjh.tistory.com/79\n",
        "- http://aikorea.org/cs231n/convolutional-networks/\n",
        "- http://taewan.kim/post/cnn/\n",
        "- http://cs231n.github.io/convolutional-networks/\n",
        "\n"
      ]
    },
    {
      "cell_type": "markdown",
      "metadata": {
        "collapsed": false,
        "id": "JGQGGis-5Wpa"
      },
      "source": [
        "## 1. Convolutional Neural Network\n",
        "---\n",
        "![대체 텍스트](https://cdn-images-1.medium.com/max/800/0*-1Pad7loK_dFOUvS.png)\n",
        "- We are going to implement Convolutional Neural Network\n",
        "- It has two convolutional layers and two pooling layers\n",
        "\n",
        "Let's import required python package\n",
        "\n",
        "Here, ``torchvision`` module provides useful benchmark datasets and image transfromation functions\n"
      ]
    },
    {
      "cell_type": "code",
      "metadata": {
        "pycharm": {
          "name": "#%%\n"
        },
        "id": "xkpShoRM5Wpb"
      },
      "source": [
        "''' 1. Module Import '''\n",
        "import torch\n",
        "import torch.nn as nn\n",
        "import torch.nn.functional as F\n",
        "import torchvision\n",
        "import torchvision.transforms as transforms\n",
        "\n",
        "import numpy as np\n",
        "import matplotlib.pyplot as plt\n",
        "import random"
      ],
      "execution_count": 1,
      "outputs": []
    },
    {
      "cell_type": "markdown",
      "metadata": {
        "collapsed": false,
        "pycharm": {
          "name": "#%% md\n"
        },
        "id": "VSYxHDBf5Wpb"
      },
      "source": [
        "Define device configuration (CPU Computation or GPU Computation)"
      ]
    },
    {
      "cell_type": "code",
      "metadata": {
        "pycharm": {
          "name": "#%%\n"
        },
        "colab": {
          "base_uri": "https://localhost:8080/"
        },
        "id": "RewPHiy25Wpb",
        "outputId": "b91ba375-857e-4bd0-fe99-34bcaa7c9729"
      },
      "source": [
        "''' 2. Define device '''\n",
        "device = torch.device('cuda:0' if torch.cuda.is_available() else 'cpu')\n",
        "print(device)"
      ],
      "execution_count": 5,
      "outputs": [
        {
          "output_type": "stream",
          "text": [
            "cuda:0\n"
          ],
          "name": "stdout"
        }
      ]
    },
    {
      "cell_type": "markdown",
      "metadata": {
        "collapsed": false,
        "pycharm": {
          "name": "#%% md\n"
        },
        "id": "jv5xXBmb5Wpc"
      },
      "source": [
        "Define hyperparameters"
      ]
    },
    {
      "cell_type": "code",
      "metadata": {
        "pycharm": {
          "name": "#%%\n"
        },
        "id": "Y1Zd-aJw5Wpc"
      },
      "source": [
        "''' 3. Configure hyperparameters '''\n",
        "num_epochs = 10\n",
        "num_classes = 10\n",
        "batch_size = 100\n",
        "learning_rate = 0.1"
      ],
      "execution_count": 6,
      "outputs": []
    },
    {
      "cell_type": "markdown",
      "metadata": {
        "collapsed": false,
        "pycharm": {
          "name": "#%% md\n"
        },
        "id": "6FDRJmuw5Wpc"
      },
      "source": [
        "Download MNIST dataset\n",
        "You can check the number of dataset by printing ```len(dataset)```"
      ]
    },
    {
      "cell_type": "code",
      "metadata": {
        "pycharm": {
          "name": "#%%\n"
        },
        "colab": {
          "base_uri": "https://localhost:8080/",
          "height": 894,
          "referenced_widgets": [
            "a2e9c1ae7467413ba33a4584e60f2101",
            "9deda543220947ae9c1d9fdb655c24b7",
            "8522574f32af45e4a2c8a59898f437ea",
            "0996860e64ed440581db05758d76a299",
            "4a93a0d0f83c416eb509c24468ff9cb1",
            "0c1aee5d46f64c889ad4514b329cb134",
            "551e6af1b95a47558256ccef07fa4aad",
            "bf43f18e68f84521ab7186fec7c3726c",
            "4a16ee73946e469293ea888b01dde61e",
            "8180e3e6ba2b4545b41b8e5942f9cae8",
            "9bd3b4b1c58e485f9dd913a0e0788391",
            "14d85c8fc18344e8a8a1b6a7ba9d79fd",
            "096a7c005a8f4e8e921f90d8a4dd209a",
            "2015668a0689452a9ec2ec866cd5f9b6",
            "8e5fee677cf54dc3b9f29d376fa68d7b",
            "a5c1886efbea4f54a7a550e0fc3870b0",
            "3fe0db15bb634bbabdd3d5b08ab676bb",
            "9d75523408eb4dd68fe6d88ff87ab499",
            "7ed628ce7c724dfe81e0eacfe3fd5699",
            "aa2fab5ce83c4a55b4c3bd8138c6af20",
            "0aba8354eaa44dd09c09007f8b99caad",
            "598b3eb9aafe475b94a2a9e1e9cdc3c7",
            "65aecd29e36a422e9c887a2abe053b91",
            "71bb1f7cd77d460491aae5b6e3efb7e9",
            "2e981e1d84b343368213fd03f742185a",
            "fe4857ec5b464bb8a5f442d53bf370ad",
            "4b5aaa7a79364b5aad05008b4c99c376",
            "646b74eab72441b5af4008247aa283b7",
            "97083e9123a048528cd9ad865386549e",
            "8c05e29837094a4a978890938fbefa76",
            "2bfad5ddb97347d59d8c1857b8fac5c7",
            "ab82630bddda43f391453629bfaa6418"
          ]
        },
        "id": "_l4lCIhR5Wpd",
        "outputId": "233d0458-71bb-4764-9e3a-6d0103c506cb"
      },
      "source": [
        "''' 4. Download MNIST dataset '''\n",
        "# download the MNIST dataset and\n",
        "train_dataset = torchvision.datasets.MNIST(root='./data',\n",
        "                                           train=True,\n",
        "                                           transform=transforms.ToTensor(),\n",
        "                                           download=True)\n",
        "\n",
        "test_dataset = torchvision.datasets.MNIST(root='./data',\n",
        "                                          train=False,\n",
        "                                          transform=transforms.ToTensor())\n",
        "\n",
        "print('Number of train images: {}'.format(len(train_dataset)))\n",
        "print('Number of test images: {}'.format(len(test_dataset)))"
      ],
      "execution_count": 7,
      "outputs": [
        {
          "output_type": "stream",
          "text": [
            "Downloading http://yann.lecun.com/exdb/mnist/train-images-idx3-ubyte.gz\n",
            "Failed to download (trying next):\n",
            "HTTP Error 503: Service Unavailable\n",
            "\n",
            "Downloading https://ossci-datasets.s3.amazonaws.com/mnist/train-images-idx3-ubyte.gz\n",
            "Downloading https://ossci-datasets.s3.amazonaws.com/mnist/train-images-idx3-ubyte.gz to ./data/MNIST/raw/train-images-idx3-ubyte.gz\n"
          ],
          "name": "stdout"
        },
        {
          "output_type": "display_data",
          "data": {
            "application/vnd.jupyter.widget-view+json": {
              "model_id": "a2e9c1ae7467413ba33a4584e60f2101",
              "version_minor": 0,
              "version_major": 2
            },
            "text/plain": [
              "HBox(children=(FloatProgress(value=0.0, max=9912422.0), HTML(value='')))"
            ]
          },
          "metadata": {
            "tags": []
          }
        },
        {
          "output_type": "stream",
          "text": [
            "\n",
            "Extracting ./data/MNIST/raw/train-images-idx3-ubyte.gz to ./data/MNIST/raw\n",
            "\n",
            "Downloading http://yann.lecun.com/exdb/mnist/train-labels-idx1-ubyte.gz\n",
            "Failed to download (trying next):\n",
            "HTTP Error 503: Service Unavailable\n",
            "\n",
            "Downloading https://ossci-datasets.s3.amazonaws.com/mnist/train-labels-idx1-ubyte.gz\n",
            "Downloading https://ossci-datasets.s3.amazonaws.com/mnist/train-labels-idx1-ubyte.gz to ./data/MNIST/raw/train-labels-idx1-ubyte.gz\n"
          ],
          "name": "stdout"
        },
        {
          "output_type": "display_data",
          "data": {
            "application/vnd.jupyter.widget-view+json": {
              "model_id": "4a16ee73946e469293ea888b01dde61e",
              "version_minor": 0,
              "version_major": 2
            },
            "text/plain": [
              "HBox(children=(FloatProgress(value=0.0, max=28881.0), HTML(value='')))"
            ]
          },
          "metadata": {
            "tags": []
          }
        },
        {
          "output_type": "stream",
          "text": [
            "\n",
            "Extracting ./data/MNIST/raw/train-labels-idx1-ubyte.gz to ./data/MNIST/raw\n",
            "\n",
            "Downloading http://yann.lecun.com/exdb/mnist/t10k-images-idx3-ubyte.gz\n",
            "Failed to download (trying next):\n",
            "HTTP Error 503: Service Unavailable\n",
            "\n",
            "Downloading https://ossci-datasets.s3.amazonaws.com/mnist/t10k-images-idx3-ubyte.gz\n",
            "Downloading https://ossci-datasets.s3.amazonaws.com/mnist/t10k-images-idx3-ubyte.gz to ./data/MNIST/raw/t10k-images-idx3-ubyte.gz\n"
          ],
          "name": "stdout"
        },
        {
          "output_type": "display_data",
          "data": {
            "application/vnd.jupyter.widget-view+json": {
              "model_id": "3fe0db15bb634bbabdd3d5b08ab676bb",
              "version_minor": 0,
              "version_major": 2
            },
            "text/plain": [
              "HBox(children=(FloatProgress(value=0.0, max=1648877.0), HTML(value='')))"
            ]
          },
          "metadata": {
            "tags": []
          }
        },
        {
          "output_type": "stream",
          "text": [
            "\n",
            "Extracting ./data/MNIST/raw/t10k-images-idx3-ubyte.gz to ./data/MNIST/raw\n",
            "\n",
            "Downloading http://yann.lecun.com/exdb/mnist/t10k-labels-idx1-ubyte.gz\n",
            "Failed to download (trying next):\n",
            "HTTP Error 503: Service Unavailable\n",
            "\n",
            "Downloading https://ossci-datasets.s3.amazonaws.com/mnist/t10k-labels-idx1-ubyte.gz\n",
            "Downloading https://ossci-datasets.s3.amazonaws.com/mnist/t10k-labels-idx1-ubyte.gz to ./data/MNIST/raw/t10k-labels-idx1-ubyte.gz\n"
          ],
          "name": "stdout"
        },
        {
          "output_type": "display_data",
          "data": {
            "application/vnd.jupyter.widget-view+json": {
              "model_id": "2e981e1d84b343368213fd03f742185a",
              "version_minor": 0,
              "version_major": 2
            },
            "text/plain": [
              "HBox(children=(FloatProgress(value=0.0, max=4542.0), HTML(value='')))"
            ]
          },
          "metadata": {
            "tags": []
          }
        },
        {
          "output_type": "stream",
          "text": [
            "\n",
            "Extracting ./data/MNIST/raw/t10k-labels-idx1-ubyte.gz to ./data/MNIST/raw\n",
            "\n",
            "Processing...\n",
            "Done!\n",
            "Number of train images: 60000\n",
            "Number of test images: 10000\n"
          ],
          "name": "stdout"
        },
        {
          "output_type": "stream",
          "text": [
            "/usr/local/lib/python3.7/dist-packages/torchvision/datasets/mnist.py:502: UserWarning: The given NumPy array is not writeable, and PyTorch does not support non-writeable tensors. This means you can write to the underlying (supposedly non-writeable) NumPy array using the tensor. You may want to copy the array to protect its data or make it writeable before converting it to a tensor. This type of warning will be suppressed for the rest of this program. (Triggered internally at  /pytorch/torch/csrc/utils/tensor_numpy.cpp:143.)\n",
            "  return torch.from_numpy(parsed.astype(m[2], copy=False)).view(*s)\n"
          ],
          "name": "stderr"
        }
      ]
    },
    {
      "cell_type": "markdown",
      "metadata": {
        "collapsed": false,
        "pycharm": {
          "name": "#%% md\n"
        },
        "id": "zdyYB9Zy5Wpd"
      },
      "source": [
        "```torch.utils.data.DataLoader``` shuffles the training data and devides the entire data with ```batch_size```"
      ]
    },
    {
      "cell_type": "code",
      "metadata": {
        "pycharm": {
          "name": "#%%\n"
        },
        "id": "SVF9RhMO5Wpd"
      },
      "source": [
        "''' 5. Load the data through dataloader '''\n",
        "train_loader = torch.utils.data.DataLoader(dataset=train_dataset,\n",
        "                                           batch_size=batch_size,\n",
        "                                           shuffle=True)\n",
        "\n",
        "test_loader = torch.utils.data.DataLoader(dataset=test_dataset,\n",
        "                                          batch_size=batch_size,\n",
        "                                          shuffle=False)"
      ],
      "execution_count": 8,
      "outputs": []
    },
    {
      "cell_type": "markdown",
      "metadata": {
        "collapsed": false,
        "pycharm": {
          "name": "#%% md\n"
        },
        "id": "xA8XwbDk5Wpd"
      },
      "source": [
        "Let's check the size of input tensor and label\n",
        "- Inputs: ``[batch_size, channel, width, height]``\n",
        "- Labels: ``[batch_size]``\n"
      ]
    },
    {
      "cell_type": "code",
      "metadata": {
        "pycharm": {
          "name": "#%%\n"
        },
        "colab": {
          "base_uri": "https://localhost:8080/"
        },
        "id": "kJR0d-y95Wpe",
        "outputId": "36589c15-9f2a-4a1f-8ed5-9a24cc3955df"
      },
      "source": [
        "''' 6. Checking data (1) '''\n",
        "for X_train, y_train in train_loader:\n",
        "    print('X_train:', X_train.size(), 'type:', X_train.type())\n",
        "    print('y_train:', y_train.size(), 'type:', y_train.type())\n",
        "    break"
      ],
      "execution_count": 9,
      "outputs": [
        {
          "output_type": "stream",
          "text": [
            "X_train: torch.Size([100, 1, 28, 28]) type: torch.FloatTensor\n",
            "y_train: torch.Size([100]) type: torch.LongTensor\n"
          ],
          "name": "stdout"
        }
      ]
    },
    {
      "cell_type": "code",
      "metadata": {
        "pycharm": {
          "name": "#%%\n"
        },
        "colab": {
          "base_uri": "https://localhost:8080/",
          "height": 94
        },
        "id": "BBQ8rUEy5Wpe",
        "outputId": "25e76a5c-1735-4246-c63d-7a3b7ebc0224"
      },
      "source": [
        "''' 7. Checking data (2) '''\n",
        "pltsize = 1\n",
        "plt.figure(figsize=(10 * pltsize, pltsize))\n",
        "\n",
        "for i in range(10): # Watching just 10 images\n",
        "    plt.subplot(1, 10, i + 1)\n",
        "    plt.axis('off')\n",
        "    plt.imshow(np.transpose(X_train[i][0], (0, 1)))\n",
        "    plt.title('Class: ' + str(y_train[i].item()))\n"
      ],
      "execution_count": 67,
      "outputs": [
        {
          "output_type": "display_data",
          "data": {
            "image/png": "[encoded data removed]",
            "text/plain": [
              "<Figure size 720x72 with 10 Axes>"
            ]
          },
          "metadata": {
            "tags": [],
            "needs_background": "light"
          }
        }
      ]
    },
    {
      "cell_type": "markdown",
      "metadata": {
        "collapsed": false,
        "pycharm": {
          "name": "#%% md\n"
        },
        "id": "-9OaRuZx5Wpe"
      },
      "source": [
        "**Usage of Conv2d Module**\n",
        "\n",
        "- ``torch.nn.Conv2d(in_channels, out_channels, kernal_size, stride, padding)``\n",
        "-  ``in_channels``  : number of channels of input\n",
        "- ``out_channels`` : number of channels of output\n",
        "\n",
        "**Usage of MaxPool2d Module**\n",
        "\n",
        "- ``torch.nn.MaxPool2d(kernel_size, stride)``"
      ]
    },
    {
      "cell_type": "code",
      "metadata": {
        "pycharm": {
          "name": "#%%\n"
        },
        "id": "HJNEuRJz5Wpf"
      },
      "source": [
        "''' 8. Building simple CNN '''\n",
        "class ConvNet(nn.Module):\n",
        "    def __init__(self, num_classes=10):\n",
        "        super(ConvNet, self).__init__()\n",
        "        self.layer1 = nn.Sequential(\n",
        "            nn.Conv2d(in_channels=1, out_channels=16, kernel_size=5, stride=1, padding=2),\n",
        "            nn.ReLU(),\n",
        "            nn.MaxPool2d(kernel_size=2, stride=2))\n",
        "\n",
        "        self.layer2 = nn.Sequential(\n",
        "            nn.Conv2d(in_channels=16, out_channels=32, kernel_size=5, stride=1, padding=2),\n",
        "            nn.ReLU(),\n",
        "            nn.MaxPool2d(kernel_size=2, stride=2))\n",
        "\n",
        "        # Linear model (width*height*channel of the last feature map, Number of class)\n",
        "        self.fc = nn.Linear(7*7*32, num_classes)\n",
        "\n",
        "    def forward(self, x):\n",
        "        out = self.layer1(x)\n",
        "        out = self.layer2(out)\n",
        "        flatten = out.view(out.size(0), -1)  # Flatten\n",
        "        # flatten = out.reshape(out.size(0), -1) # We can also use '.reshape'\n",
        "        score = self.fc(flatten) # Score\n",
        "        prob = F.softmax(score) # Probability\n",
        "        return prob\n"
      ],
      "execution_count": 11,
      "outputs": []
    },
    {
      "cell_type": "markdown",
      "metadata": {
        "collapsed": false,
        "pycharm": {
          "name": "#%% md\n"
        },
        "id": "yP75a9NI5Wpf"
      },
      "source": [
        "Define the ``criterion`` (Loss) with the ``torch.nn.CrossEntropyLoss()``\n",
        "\n",
        "Define the ``optimizer`` with ``torch.optim.SGD()`` (Stochastic Gradient Descent) which is a kind of Gradient Descent Algorithm\n",
        "- It takes two inputs ``model.parameters()`` and ``lr``\n",
        "- ``model.parameters()`` refers to the learnable parameters of model\n",
        "- ``lr`` refers to the learning rate ($\\alpha$)\n",
        "\n",
        "You can check the number of weights (parameters)\n",
        "You can print the structure of the model by using simple code ``print(model)``"
      ]
    },
    {
      "cell_type": "code",
      "metadata": {
        "pycharm": {
          "name": "#%%\n"
        },
        "id": "1Ztk2jjn5Wpf",
        "colab": {
          "base_uri": "https://localhost:8080/"
        },
        "outputId": "78131fbe-a88c-45f8-86f1-ebbfa3950606"
      },
      "source": [
        "''' 8. Configure Optimizer, Objective function '''\n",
        "model = ConvNet().to(device)\n",
        "optimizer = torch.optim.SGD(model.parameters(), lr=learning_rate)\n",
        "criterion = nn.CrossEntropyLoss()\n",
        "# You can usu another method by just changing name as below\n",
        "# optimizer = torch.optim.Adam(model.parameters(), lr = 0.001)\n",
        "\n",
        "print(model)\n",
        "\n",
        "print('\\n')\n",
        "\n",
        "# Also we can check entire number of parameters and the size of each layer\n",
        "print('Number of parameters: {}'.format(sum(p.numel() for p in model.parameters())))\n",
        "for p in model.parameters():\n",
        "    print(p.size())\n"
      ],
      "execution_count": 12,
      "outputs": [
        {
          "output_type": "stream",
          "text": [
            "ConvNet(\n",
            "  (layer1): Sequential(\n",
            "    (0): Conv2d(1, 16, kernel_size=(5, 5), stride=(1, 1), padding=(2, 2))\n",
            "    (1): ReLU()\n",
            "    (2): MaxPool2d(kernel_size=2, stride=2, padding=0, dilation=1, ceil_mode=False)\n",
            "  )\n",
            "  (layer2): Sequential(\n",
            "    (0): Conv2d(16, 32, kernel_size=(5, 5), stride=(1, 1), padding=(2, 2))\n",
            "    (1): ReLU()\n",
            "    (2): MaxPool2d(kernel_size=2, stride=2, padding=0, dilation=1, ceil_mode=False)\n",
            "  )\n",
            "  (fc): Linear(in_features=1568, out_features=10, bias=True)\n",
            ")\n",
            "\n",
            "\n",
            "Number of parameters: 28938\n",
            "torch.Size([16, 1, 5, 5])\n",
            "torch.Size([16])\n",
            "torch.Size([32, 16, 5, 5])\n",
            "torch.Size([32])\n",
            "torch.Size([10, 1568])\n",
            "torch.Size([10])\n"
          ],
          "name": "stdout"
        }
      ]
    },
    {
      "cell_type": "markdown",
      "metadata": {
        "collapsed": false,
        "pycharm": {
          "name": "#%% md\n"
        },
        "id": "lrzRzCaU5Wpg"
      },
      "source": [
        "Train the model"
      ]
    },
    {
      "cell_type": "code",
      "metadata": {
        "pycharm": {
          "name": "#%%\n"
        },
        "id": "fr8CShyj5Wpg"
      },
      "source": [
        "''' 9. The method for model training '''\n",
        "def train(model, train_loader, optimizer, log_interval):\n",
        "    model.train()\n",
        "    for batch_idx, (image, label) in enumerate(train_loader):\n",
        "        image = image.to(device)\n",
        "        label = label.to(device)\n",
        "        # https://tutorials.pytorch.kr/recipes/recipes/save_load_across_devices.html#cpu-gpu\n",
        "\n",
        "        # Forward pass\n",
        "        output = model(image)\n",
        "        loss = criterion(output, label)\n",
        "\n",
        "        # Backward and optimize\n",
        "        optimizer.zero_grad()\n",
        "        loss.backward()\n",
        "        optimizer.step()\n",
        "\n",
        "        # Printing the result at the specific interval\n",
        "        if batch_idx % log_interval == 0: # log_interval = 100\n",
        "            print(\"Train Epoch: {} [{}/{} ({:.0f}%)]\\tTrain Loss: {:.6f}\".format(\n",
        "                epoch, batch_idx, len(train_loader), 100. * batch_idx / len(train_loader),\n",
        "                loss.item()))"
      ],
      "execution_count": 14,
      "outputs": []
    },
    {
      "cell_type": "markdown",
      "metadata": {
        "collapsed": false,
        "id": "Byj1MvfF5Wpg"
      },
      "source": [
        "Test the model"
      ]
    },
    {
      "cell_type": "code",
      "metadata": {
        "pycharm": {
          "name": "#%%\n"
        },
        "id": "3emazneq5Wpg"
      },
      "source": [
        "''' 10. The method for testing model '''\n",
        "def evaluate(model, test_loader):\n",
        "    model.eval()\n",
        "    test_loss = 0\n",
        "    correct = 0\n",
        "\n",
        "    with torch.no_grad():\n",
        "        for image, label in test_loader:\n",
        "            image = image.to(device)\n",
        "            label = label.to(device)\n",
        "            output = model(image)\n",
        "            test_loss += criterion(output, label).item()    # The item() method extracts the criterion’s value as a Python float.\n",
        "            prediction = output.max(1, keepdim = True)[1]   # max (at pytorch): print out maximum value by [0] and argmax by [1]\n",
        "            # The a above is same as ' prediction = torch.max(ouput, 1, keepdim = True)[1] '\n",
        "            # print out the biggest value's index of the each tensor in 'output'\n",
        "            # output 내의 각 tensor 중, 가장 큰 index를 추출\n",
        "\n",
        "            correct += prediction.eq(label.view_as(prediction)).sum().item()\n",
        "            # prediction.eq(data)는 prediction배열과 data가 일치하느냐를 검사\n",
        "            # prediction.eq(data) checks whether list of prediction and data match.\n",
        "            # 그 뒤에 .sum()을 붙여서 일치하는 것들의 개수 합을 출력\n",
        "            # The sum of the number of matches is printed out by appending .sum()\n",
        "\n",
        "            # view_as() : View this tensor as the same size as other\n",
        "            # label.view_as(prediction) is equivalent to label.view(prediction.size())\n",
        "            # label을 prediction의 사이즈로 출력\n",
        "            # print out the label as the same size as prediction\n",
        "\n",
        "\n",
        "    test_loss /= (len(test_loader.dataset) / batch_size) # 'a /= b' is equal to 'a = a/b\n",
        "    test_accuracy = 100. * correct / len(test_loader.dataset)\n",
        "    return test_loss, test_accuracy\n"
      ],
      "execution_count": 16,
      "outputs": []
    },
    {
      "cell_type": "code",
      "metadata": {
        "pycharm": {
          "name": "#%%\n"
        },
        "id": "5MZE7m7-5Wph",
        "colab": {
          "base_uri": "https://localhost:8080/"
        },
        "outputId": "0882a3fb-43e3-4068-e12b-f753054bc334"
      },
      "source": [
        "''' 11. Train the model and check the test results'''\n",
        "for epoch in range(1, num_epochs + 1):\n",
        "    train(model, train_loader, optimizer, log_interval = 100)\n",
        "    test_loss, test_accuracy = evaluate(model, test_loader)\n",
        "    print(\"\\n[EPOCH: {}/{}], \\tTest Loss: {:.4f}, \\tTest Accuracy: {:.2f} % \\n\".format(\n",
        "        epoch, num_epochs, test_loss, test_accuracy))"
      ],
      "execution_count": 17,
      "outputs": [
        {
          "output_type": "stream",
          "text": [
            "/usr/local/lib/python3.7/dist-packages/ipykernel_launcher.py:24: UserWarning: Implicit dimension choice for softmax has been deprecated. Change the call to include dim=X as an argument.\n"
          ],
          "name": "stderr"
        },
        {
          "output_type": "stream",
          "text": [
            "Train Epoch: 1 [0/600 (0%)]\tTrain Loss: 2.302382\n",
            "Train Epoch: 1 [100/600 (17%)]\tTrain Loss: 2.250123\n",
            "Train Epoch: 1 [200/600 (33%)]\tTrain Loss: 1.799482\n",
            "Train Epoch: 1 [300/600 (50%)]\tTrain Loss: 1.720816\n",
            "Train Epoch: 1 [400/600 (67%)]\tTrain Loss: 1.633310\n",
            "Train Epoch: 1 [500/600 (83%)]\tTrain Loss: 1.617666\n",
            "\n",
            "[EPOCH: 1/10], \tTest Loss: 1.6172, \tTest Accuracy: 84.89 % \n",
            "\n",
            "Train Epoch: 2 [0/600 (0%)]\tTrain Loss: 1.592743\n",
            "Train Epoch: 2 [100/600 (17%)]\tTrain Loss: 1.520982\n",
            "Train Epoch: 2 [200/600 (33%)]\tTrain Loss: 1.536810\n",
            "Train Epoch: 2 [300/600 (50%)]\tTrain Loss: 1.500246\n",
            "Train Epoch: 2 [400/600 (67%)]\tTrain Loss: 1.518552\n",
            "Train Epoch: 2 [500/600 (83%)]\tTrain Loss: 1.502979\n",
            "\n",
            "[EPOCH: 2/10], \tTest Loss: 1.5099, \tTest Accuracy: 95.55 % \n",
            "\n",
            "Train Epoch: 3 [0/600 (0%)]\tTrain Loss: 1.493720\n",
            "Train Epoch: 3 [100/600 (17%)]\tTrain Loss: 1.503051\n",
            "Train Epoch: 3 [200/600 (33%)]\tTrain Loss: 1.517580\n",
            "Train Epoch: 3 [300/600 (50%)]\tTrain Loss: 1.553294\n",
            "Train Epoch: 3 [400/600 (67%)]\tTrain Loss: 1.562000\n",
            "Train Epoch: 3 [500/600 (83%)]\tTrain Loss: 1.503405\n",
            "\n",
            "[EPOCH: 3/10], \tTest Loss: 1.4967, \tTest Accuracy: 96.81 % \n",
            "\n",
            "Train Epoch: 4 [0/600 (0%)]\tTrain Loss: 1.504868\n",
            "Train Epoch: 4 [100/600 (17%)]\tTrain Loss: 1.490621\n",
            "Train Epoch: 4 [200/600 (33%)]\tTrain Loss: 1.476300\n",
            "Train Epoch: 4 [300/600 (50%)]\tTrain Loss: 1.507088\n",
            "Train Epoch: 4 [400/600 (67%)]\tTrain Loss: 1.501787\n",
            "Train Epoch: 4 [500/600 (83%)]\tTrain Loss: 1.524728\n",
            "\n",
            "[EPOCH: 4/10], \tTest Loss: 1.4935, \tTest Accuracy: 97.08 % \n",
            "\n",
            "Train Epoch: 5 [0/600 (0%)]\tTrain Loss: 1.483193\n",
            "Train Epoch: 5 [100/600 (17%)]\tTrain Loss: 1.488571\n",
            "Train Epoch: 5 [200/600 (33%)]\tTrain Loss: 1.486031\n",
            "Train Epoch: 5 [300/600 (50%)]\tTrain Loss: 1.484290\n",
            "Train Epoch: 5 [400/600 (67%)]\tTrain Loss: 1.504041\n",
            "Train Epoch: 5 [500/600 (83%)]\tTrain Loss: 1.488760\n",
            "\n",
            "[EPOCH: 5/10], \tTest Loss: 1.4920, \tTest Accuracy: 97.22 % \n",
            "\n",
            "Train Epoch: 6 [0/600 (0%)]\tTrain Loss: 1.501146\n",
            "Train Epoch: 6 [100/600 (17%)]\tTrain Loss: 1.473596\n",
            "Train Epoch: 6 [200/600 (33%)]\tTrain Loss: 1.482866\n",
            "Train Epoch: 6 [300/600 (50%)]\tTrain Loss: 1.481864\n",
            "Train Epoch: 6 [400/600 (67%)]\tTrain Loss: 1.475906\n",
            "Train Epoch: 6 [500/600 (83%)]\tTrain Loss: 1.481863\n",
            "\n",
            "[EPOCH: 6/10], \tTest Loss: 1.4840, \tTest Accuracy: 98.00 % \n",
            "\n",
            "Train Epoch: 7 [0/600 (0%)]\tTrain Loss: 1.468428\n",
            "Train Epoch: 7 [100/600 (17%)]\tTrain Loss: 1.462306\n",
            "Train Epoch: 7 [200/600 (33%)]\tTrain Loss: 1.473870\n",
            "Train Epoch: 7 [300/600 (50%)]\tTrain Loss: 1.475308\n",
            "Train Epoch: 7 [400/600 (67%)]\tTrain Loss: 1.472643\n",
            "Train Epoch: 7 [500/600 (83%)]\tTrain Loss: 1.482200\n",
            "\n",
            "[EPOCH: 7/10], \tTest Loss: 1.4830, \tTest Accuracy: 98.04 % \n",
            "\n",
            "Train Epoch: 8 [0/600 (0%)]\tTrain Loss: 1.492843\n",
            "Train Epoch: 8 [100/600 (17%)]\tTrain Loss: 1.491859\n",
            "Train Epoch: 8 [200/600 (33%)]\tTrain Loss: 1.475934\n",
            "Train Epoch: 8 [300/600 (50%)]\tTrain Loss: 1.507204\n",
            "Train Epoch: 8 [400/600 (67%)]\tTrain Loss: 1.465014\n",
            "Train Epoch: 8 [500/600 (83%)]\tTrain Loss: 1.486209\n",
            "\n",
            "[EPOCH: 8/10], \tTest Loss: 1.4826, \tTest Accuracy: 98.13 % \n",
            "\n",
            "Train Epoch: 9 [0/600 (0%)]\tTrain Loss: 1.508854\n",
            "Train Epoch: 9 [100/600 (17%)]\tTrain Loss: 1.474155\n",
            "Train Epoch: 9 [200/600 (33%)]\tTrain Loss: 1.489730\n",
            "Train Epoch: 9 [300/600 (50%)]\tTrain Loss: 1.485772\n",
            "Train Epoch: 9 [400/600 (67%)]\tTrain Loss: 1.473556\n",
            "Train Epoch: 9 [500/600 (83%)]\tTrain Loss: 1.469286\n",
            "\n",
            "[EPOCH: 9/10], \tTest Loss: 1.4795, \tTest Accuracy: 98.37 % \n",
            "\n",
            "Train Epoch: 10 [0/600 (0%)]\tTrain Loss: 1.472448\n",
            "Train Epoch: 10 [100/600 (17%)]\tTrain Loss: 1.473196\n",
            "Train Epoch: 10 [200/600 (33%)]\tTrain Loss: 1.478747\n",
            "Train Epoch: 10 [300/600 (50%)]\tTrain Loss: 1.488861\n",
            "Train Epoch: 10 [400/600 (67%)]\tTrain Loss: 1.479224\n",
            "Train Epoch: 10 [500/600 (83%)]\tTrain Loss: 1.484006\n",
            "\n",
            "[EPOCH: 10/10], \tTest Loss: 1.4783, \tTest Accuracy: 98.40 % \n",
            "\n"
          ],
          "name": "stdout"
        }
      ]
    },
    {
      "cell_type": "markdown",
      "metadata": {
        "collapsed": false,
        "id": "lcAkndBc5Wph"
      },
      "source": [
        "Check the output after training"
      ]
    },
    {
      "cell_type": "code",
      "metadata": {
        "pycharm": {
          "name": "#%%\n"
        },
        "id": "qJgz9lOd5Wph",
        "colab": {
          "base_uri": "https://localhost:8080/",
          "height": 139
        },
        "outputId": "4243a56f-3204-405c-cf6f-612a81bd555c"
      },
      "source": [
        "''' 12. Check the output after training '''\n",
        "# Torch tensor to numpy array\n",
        "image_tensor, image_label = train_dataset.__getitem__(random.randint(0, len(train_dataset)))\n",
        "model_input = image_tensor.unsqueeze(dim=0).to(device)\n",
        "model_output = model(model_input)\n",
        "\n",
        "print(f'Image Lable: {image_label}')\n",
        "print('Model output: {}'.format(model_output.data))\n",
        "print('Argmax of model output: {}'.format(model_output == torch.max(model_output)))\n",
        "\n",
        "''' We can check the prediction result of CNN model is equal to image label.'''"
      ],
      "execution_count": 21,
      "outputs": [
        {
          "output_type": "stream",
          "text": [
            "Image Lable: 3\n",
            "Model output: tensor([[2.2689e-12, 8.2035e-10, 4.0387e-11, 1.0000e+00, 8.9543e-13, 1.4810e-06,\n",
            "         2.6247e-17, 1.4005e-14, 7.6157e-09, 2.8875e-06]], device='cuda:0')\n",
            "Argmax of model output: tensor([[False, False, False,  True, False, False, False, False, False, False]],\n",
            "       device='cuda:0')\n"
          ],
          "name": "stdout"
        },
        {
          "output_type": "stream",
          "text": [
            "/usr/local/lib/python3.7/dist-packages/ipykernel_launcher.py:24: UserWarning: Implicit dimension choice for softmax has been deprecated. Change the call to include dim=X as an argument.\n"
          ],
          "name": "stderr"
        },
        {
          "output_type": "execute_result",
          "data": {
            "application/vnd.google.colaboratory.intrinsic+json": {
              "type": "string"
            },
            "text/plain": [
              "' We can check the prediction result of CNN model is equal to image label.'"
            ]
          },
          "metadata": {
            "tags": []
          },
          "execution_count": 21
        }
      ]
    }
  ]
}