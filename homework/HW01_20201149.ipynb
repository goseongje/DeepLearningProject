{
 "cells": [
  {
   "cell_type": "markdown",
   "metadata": {
    "colab_type": "text",
    "id": "l12Fft2o15eq"
   },
   "source": [
    "# HW01\n",
    "Deep Learning, GIST RT5101-01, 2021, Spring, (Tue/Thurs 2:30~3:45)\n",
    "***\n",
    "\n",
    "### Python lists vs Numpy arrays, Why we use numpy arrays?\n",
    "\n",
    "Generally, numpy data structures perform better in \n",
    "\n",
    "- Size - Numpy data structures take up less space\n",
    "- Performance - they have a need for speed and are faster than lists\n",
    "- Functionality - SciPy and NumPy have optimized functions such as linear algebra operations built in. [Ref](https://webcourses.ucf.edu/courses/1249560/pages/python-lists-vs-numpy-arrays-what-is-the-difference)\n",
    "\n",
    "In this homework, we will perform the same operations by using python list, and numpy array and compare the running time of them.  \n",
    "\n",
    "\n",
    "### How to submit your homework\n",
    "Submit your jupyter notebook file with the filename of  *HW01_studentnumber.ipynb*  on GEL  \n",
    "Ex) HW01_20184021.ipynb  \n",
    "\n",
    "### Submission deadline\n",
    "2021.05.03, monday 23:59 (PM)\n",
    "\n",
    "### Plagiarism\n",
    "We encourage you to discuss this homework with your friends or TA, but you should write your own code.\n",
    "\n",
    "\n"
   ]
  },
  {
   "cell_type": "markdown",
   "metadata": {
    "colab_type": "text",
    "id": "gczKrj5F4-0Z"
   },
   "source": [
    "### Problem 1. (Python lists) \n",
    "- **step 1**. Using for loop, make a list which contains a total of 10,000 elements (int) starting from 0 to 9999 and print the result.  \n",
    "Ex) A = [0, 1, 2, 3, ....9999]\n",
    "\n",
    "- **step 2**. Using for loop, calculate and print the mean of all values in the list  \n",
    "\n",
    "- **step 3**. Using for loop, multiply the arrays made in step 1 and itself by element and print the result.  \n",
    "Ex) B = A*A [0, 1, 4, 9 ...  , 99980001] (element-wise multiplication)"
   ]
  },
  {
   "cell_type": "code",
   "execution_count": 58,
   "metadata": {
    "colab": {},
    "colab_type": "code",
    "id": "O4odsWMnuDrq",
    "tags": []
   },
   "outputs": [
    {
     "output_type": "stream",
     "name": "stdout",
     "text": [
      "[0, 1, 2] [9997, 9998, 9999]\n4999.5\n[0, 1, 4] [99940009, 99960004, 99980001]\nrunning time: 0.005001068115234375\n"
     ]
    }
   ],
   "source": [
    "import time # import tiem library to compute the running time of this code\n",
    "\n",
    "t1 = time.time() # store current time\n",
    "\n",
    "#### please write your code below here.\n",
    "# Step 1\n",
    "L = []\n",
    "for i in range(10000):\n",
    "    L.append(i)\n",
    "print(L[:3], L[9997:])\n",
    "\n",
    "# Step 2\n",
    "sumL = 0\n",
    "for i in L:\n",
    "    sumL += L[i]\n",
    "\n",
    "lenL = len(L)\n",
    "if lenL != 0:\n",
    "    meanL = sumL / lenL\n",
    "else:\n",
    "    meanL = 0\n",
    "print(meanL)    \n",
    "# Step 3\n",
    "L2 = []\n",
    "for i in L:\n",
    "    L2.append(i*i)\n",
    "print(L2[:3], L2[9997:])    \n",
    "#### please write your code above here.\n",
    "\n",
    "print(\"running time:\", time.time()-t1) # compute the running time and print it"
   ]
  },
  {
   "cell_type": "markdown",
   "metadata": {
    "colab_type": "text",
    "id": "H2FIGQRP5AMc"
   },
   "source": [
    "### Problem 2. (Numpy arrays)\n",
    "\n",
    "- **step 1**. Using numpy, make a list which contains a total of 10,000 elements (int) starting from 0 to 9999 and print the result.  \n",
    "Ex) A = [0, 1, 2, 3, ....9999]\n",
    "\n",
    "- **step 2**. Using numpy, calculate and print the mean of all values in the list  \n",
    "\n",
    "- **step 3**. Using numpy, multiply the arrays made in step 1 and itself by element and print the result.  \n",
    "Ex) B = A*A [0, 1, 4, 9 ...  , 99980001] (element-wise multiplication)"
   ]
  },
  {
   "cell_type": "code",
   "execution_count": 59,
   "metadata": {
    "colab": {},
    "colab_type": "code",
    "id": "-V47SD_74_X2"
   },
   "outputs": [
    {
     "output_type": "stream",
     "name": "stdout",
     "text": [
      "[   0    1    2 ... 9997 9998 9999]\n4999.5\n[       0        1        4 ... 99940009 99960004 99980001]\nrunning time: 0.0010020732879638672\n"
     ]
    }
   ],
   "source": [
    "import numpy\n",
    "import time\n",
    "\n",
    "t2 = time.time() # store current time\n",
    "\n",
    "#### please write your code below here.\n",
    "# Step 1\n",
    "NA = numpy.arange(10000)\n",
    "print(NL)\n",
    "\n",
    "# Step 2\n",
    "meanNA = numpy.mean(NL)\n",
    "print(meanNL)\n",
    "\n",
    "# Step 3\n",
    "NA2 = NA * NA\n",
    "print(NA2)\n",
    "\n",
    "#### please write your code above here.\n",
    "\n",
    "print(\"running time:\", time.time()-t2) # compute the running time and print it"
   ]
  },
  {
   "cell_type": "code",
   "execution_count": 0,
   "metadata": {
    "colab": {},
    "colab_type": "code",
    "id": "CYd_HiHYXtqO"
   },
   "outputs": [],
   "source": []
  }
 ],
 "metadata": {
  "colab": {
   "collapsed_sections": [],
   "name": "HW01.ipynb",
   "provenance": []
  },
  "kernelspec": {
   "display_name": "Python 3",
   "language": "python",
   "name": "python3"
  },
  "language_info": {
   "codemirror_mode": {
    "name": "ipython",
    "version": 3
   },
   "file_extension": ".py",
   "mimetype": "text/x-python",
   "name": "python",
   "nbconvert_exporter": "python",
   "pygments_lexer": "ipython3",
   "version": "3.8.5"
  }
 },
 "nbformat": 4,
 "nbformat_minor": 1
}